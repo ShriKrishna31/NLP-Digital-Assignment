{
  "nbformat": 4,
  "nbformat_minor": 0,
  "metadata": {
    "colab": {
      "name": "NLP-DA2",
      "provenance": [],
      "authorship_tag": "ABX9TyNMYmML39sr2fpx0qfVMTLT",
      "include_colab_link": true
    },
    "kernelspec": {
      "name": "python3",
      "display_name": "Python 3"
    },
    "language_info": {
      "name": "python"
    }
  },
  "cells": [
    {
      "cell_type": "markdown",
      "metadata": {
        "id": "view-in-github",
        "colab_type": "text"
      },
      "source": [
        "<a href=\"https://colab.research.google.com/github/ShriKrishna31/NLP-Digital-Assignment/blob/main/NLP_DA2.ipynb\" target=\"_parent\"><img src=\"https://colab.research.google.com/assets/colab-badge.svg\" alt=\"Open In Colab\"/></a>"
      ]
    },
    {
      "cell_type": "markdown",
      "source": [
        "# Natural Languange Processing - CSE4022\n",
        "## Digital Assignment2"
      ],
      "metadata": {
        "id": "b-fjL9IZeiyP"
      }
    },
    {
      "cell_type": "markdown",
      "source": [
        "## Shri Krishna R. 19BCE1636"
      ],
      "metadata": {
        "id": "MsY9lYxzellu"
      }
    },
    {
      "cell_type": "code",
      "source": [
        "import nltk\n",
        "from nltk.tokenize import word_tokenize, sent_tokenize\n",
        "nltk.download('punkt')"
      ],
      "metadata": {
        "colab": {
          "base_uri": "https://localhost:8080/"
        },
        "id": "5sc-5MTQhHf2",
        "outputId": "dd84b684-25ed-4498-d086-4d9b40899df3"
      },
      "execution_count": 12,
      "outputs": [
        {
          "output_type": "stream",
          "name": "stderr",
          "text": [
            "[nltk_data] Downloading package punkt to /root/nltk_data...\n",
            "[nltk_data]   Package punkt is already up-to-date!\n"
          ]
        },
        {
          "output_type": "execute_result",
          "data": {
            "text/plain": [
              "True"
            ]
          },
          "metadata": {},
          "execution_count": 12
        }
      ]
    },
    {
      "cell_type": "code",
      "execution_count": 5,
      "metadata": {
        "id": "1ZAHAvBWecoH"
      },
      "outputs": [],
      "source": [
        "sentence = \"Each map is set in a location within the world of VALORANT and its contents can be searched to clue you in as to why it is an area of importance. Some maps, such as Fracture or the Range have, or have had, interactive lore elements that players can use to view images and emails or listen to audio and voicemails that show more about the map or the current activities of the VALORANT Protocol (in matchmade games, these can only be viewed during the buy phase). Fracture and Pearl also have audio lines that play in certain areas. VALORANT is set on a near-future Earth impacted by large advancements in technology, a mysterious global event known as First Light, and the discovery of a substance called radianite. Alpha Earth, including a timeline of events and alternate realities of this primary Earth that VALORANT takes place on, such as Omega Earth.  Maps, including the meaning behind the 'Seconds' cipher used in their coordinates. \""
      ]
    },
    {
      "cell_type": "markdown",
      "source": [
        "## Word Segmentation"
      ],
      "metadata": {
        "id": "ic5NWVeSkF8c"
      }
    },
    {
      "cell_type": "code",
      "source": [
        "word_tokenize(sentence)"
      ],
      "metadata": {
        "colab": {
          "base_uri": "https://localhost:8080/"
        },
        "id": "Mk7Fvv8CesPf",
        "outputId": "fd6dddae-40af-49bb-d0dd-eca79123e6db"
      },
      "execution_count": 11,
      "outputs": [
        {
          "output_type": "execute_result",
          "data": {
            "text/plain": [
              "['Each',\n",
              " 'map',\n",
              " 'is',\n",
              " 'set',\n",
              " 'in',\n",
              " 'a',\n",
              " 'location',\n",
              " 'within',\n",
              " 'the',\n",
              " 'world',\n",
              " 'of',\n",
              " 'VALORANT',\n",
              " 'and',\n",
              " 'its',\n",
              " 'contents',\n",
              " 'can',\n",
              " 'be',\n",
              " 'searched',\n",
              " 'to',\n",
              " 'clue',\n",
              " 'you',\n",
              " 'in',\n",
              " 'as',\n",
              " 'to',\n",
              " 'why',\n",
              " 'it',\n",
              " 'is',\n",
              " 'an',\n",
              " 'area',\n",
              " 'of',\n",
              " 'importance',\n",
              " '.',\n",
              " 'Some',\n",
              " 'maps',\n",
              " ',',\n",
              " 'such',\n",
              " 'as',\n",
              " 'Fracture',\n",
              " 'or',\n",
              " 'the',\n",
              " 'Range',\n",
              " 'have',\n",
              " ',',\n",
              " 'or',\n",
              " 'have',\n",
              " 'had',\n",
              " ',',\n",
              " 'interactive',\n",
              " 'lore',\n",
              " 'elements',\n",
              " 'that',\n",
              " 'players',\n",
              " 'can',\n",
              " 'use',\n",
              " 'to',\n",
              " 'view',\n",
              " 'images',\n",
              " 'and',\n",
              " 'emails',\n",
              " 'or',\n",
              " 'listen',\n",
              " 'to',\n",
              " 'audio',\n",
              " 'and',\n",
              " 'voicemails',\n",
              " 'that',\n",
              " 'show',\n",
              " 'more',\n",
              " 'about',\n",
              " 'the',\n",
              " 'map',\n",
              " 'or',\n",
              " 'the',\n",
              " 'current',\n",
              " 'activities',\n",
              " 'of',\n",
              " 'the',\n",
              " 'VALORANT',\n",
              " 'Protocol',\n",
              " '(',\n",
              " 'in',\n",
              " 'matchmade',\n",
              " 'games',\n",
              " ',',\n",
              " 'these',\n",
              " 'can',\n",
              " 'only',\n",
              " 'be',\n",
              " 'viewed',\n",
              " 'during',\n",
              " 'the',\n",
              " 'buy',\n",
              " 'phase',\n",
              " ')',\n",
              " '.',\n",
              " 'Fracture',\n",
              " 'and',\n",
              " 'Pearl',\n",
              " 'also',\n",
              " 'have',\n",
              " 'audio',\n",
              " 'lines',\n",
              " 'that',\n",
              " 'play',\n",
              " 'in',\n",
              " 'certain',\n",
              " 'areas',\n",
              " '.',\n",
              " 'VALORANT',\n",
              " 'is',\n",
              " 'set',\n",
              " 'on',\n",
              " 'a',\n",
              " 'near-future',\n",
              " 'Earth',\n",
              " 'impacted',\n",
              " 'by',\n",
              " 'large',\n",
              " 'advancements',\n",
              " 'in',\n",
              " 'technology',\n",
              " ',',\n",
              " 'a',\n",
              " 'mysterious',\n",
              " 'global',\n",
              " 'event',\n",
              " 'known',\n",
              " 'as',\n",
              " 'First',\n",
              " 'Light',\n",
              " ',',\n",
              " 'and',\n",
              " 'the',\n",
              " 'discovery',\n",
              " 'of',\n",
              " 'a',\n",
              " 'substance',\n",
              " 'called',\n",
              " 'radianite',\n",
              " '.',\n",
              " 'Alpha',\n",
              " 'Earth',\n",
              " ',',\n",
              " 'including',\n",
              " 'a',\n",
              " 'timeline',\n",
              " 'of',\n",
              " 'events',\n",
              " 'and',\n",
              " 'alternate',\n",
              " 'realities',\n",
              " 'of',\n",
              " 'this',\n",
              " 'primary',\n",
              " 'Earth',\n",
              " 'that',\n",
              " 'VALORANT',\n",
              " 'takes',\n",
              " 'place',\n",
              " 'on',\n",
              " ',',\n",
              " 'such',\n",
              " 'as',\n",
              " 'Omega',\n",
              " 'Earth',\n",
              " '.',\n",
              " 'Maps',\n",
              " ',',\n",
              " 'including',\n",
              " 'the',\n",
              " 'meaning',\n",
              " 'behind',\n",
              " 'the',\n",
              " \"'Seconds\",\n",
              " \"'\",\n",
              " 'cipher',\n",
              " 'used',\n",
              " 'in',\n",
              " 'their',\n",
              " 'coordinates',\n",
              " '.']"
            ]
          },
          "metadata": {},
          "execution_count": 11
        }
      ]
    },
    {
      "cell_type": "markdown",
      "source": [
        "## Sentance Segmentation"
      ],
      "metadata": {
        "id": "yds6LIPnkNoc"
      }
    },
    {
      "cell_type": "code",
      "source": [
        "sent_tokenize(sentence)"
      ],
      "metadata": {
        "colab": {
          "base_uri": "https://localhost:8080/"
        },
        "id": "cygMDJDLesMX",
        "outputId": "f79d26f5-a0b2-43af-fb71-1e8050223953"
      },
      "execution_count": 13,
      "outputs": [
        {
          "output_type": "execute_result",
          "data": {
            "text/plain": [
              "['Each map is set in a location within the world of VALORANT and its contents can be searched to clue you in as to why it is an area of importance.',\n",
              " 'Some maps, such as Fracture or the Range have, or have had, interactive lore elements that players can use to view images and emails or listen to audio and voicemails that show more about the map or the current activities of the VALORANT Protocol (in matchmade games, these can only be viewed during the buy phase).',\n",
              " 'Fracture and Pearl also have audio lines that play in certain areas.',\n",
              " 'VALORANT is set on a near-future Earth impacted by large advancements in technology, a mysterious global event known as First Light, and the discovery of a substance called radianite.',\n",
              " 'Alpha Earth, including a timeline of events and alternate realities of this primary Earth that VALORANT takes place on, such as Omega Earth.',\n",
              " \"Maps, including the meaning behind the 'Seconds' cipher used in their coordinates.\"]"
            ]
          },
          "metadata": {},
          "execution_count": 13
        }
      ]
    },
    {
      "cell_type": "markdown",
      "source": [
        "## Convert to LowerCase"
      ],
      "metadata": {
        "id": "wd00pIoukRlM"
      }
    },
    {
      "cell_type": "code",
      "source": [
        "sentence.lower()"
      ],
      "metadata": {
        "colab": {
          "base_uri": "https://localhost:8080/",
          "height": 122
        },
        "id": "Yvm7_FQVesJf",
        "outputId": "cb428822-9ecc-473f-dd23-93c6e2f69a60"
      },
      "execution_count": 14,
      "outputs": [
        {
          "output_type": "execute_result",
          "data": {
            "text/plain": [
              "\"each map is set in a location within the world of valorant and its contents can be searched to clue you in as to why it is an area of importance. some maps, such as fracture or the range have, or have had, interactive lore elements that players can use to view images and emails or listen to audio and voicemails that show more about the map or the current activities of the valorant protocol (in matchmade games, these can only be viewed during the buy phase). fracture and pearl also have audio lines that play in certain areas. valorant is set on a near-future earth impacted by large advancements in technology, a mysterious global event known as first light, and the discovery of a substance called radianite. alpha earth, including a timeline of events and alternate realities of this primary earth that valorant takes place on, such as omega earth.  maps, including the meaning behind the 'seconds' cipher used in their coordinates. \""
            ],
            "application/vnd.google.colaboratory.intrinsic+json": {
              "type": "string"
            }
          },
          "metadata": {},
          "execution_count": 14
        }
      ]
    },
    {
      "cell_type": "markdown",
      "source": [
        "## Stop word Removal"
      ],
      "metadata": {
        "id": "ymPgOTfRkaUE"
      }
    },
    {
      "cell_type": "code",
      "source": [
        "from nltk.corpus import stopwords\n",
        "from token import *\n",
        "stop_words = set(stopwords.words('english'))\n",
        "print(stop_words)"
      ],
      "metadata": {
        "colab": {
          "base_uri": "https://localhost:8080/"
        },
        "id": "LluRsbiresG6",
        "outputId": "74b00c65-d96c-4ceb-b692-060218220c2f"
      },
      "execution_count": 22,
      "outputs": [
        {
          "output_type": "stream",
          "name": "stdout",
          "text": [
            "{'while', 'below', 'until', 'o', 'before', 'ours', 'being', 'her', 'very', 'wasn', 'by', 'she', 'you', 'or', 'about', 'his', 'other', 'in', 'how', 'we', 'where', 'because', 're', \"needn't\", 'me', 'more', 'not', 'do', 'down', \"it's\", 'don', \"wouldn't\", 'hers', 'am', 'were', \"don't\", 'such', \"doesn't\", 'doing', 'ourselves', \"she's\", \"hasn't\", 'mightn', 'are', 'some', 'at', 'for', 'him', \"aren't\", \"you're\", 'from', 'did', 'up', 'but', 'y', 'yourselves', 'which', 'just', 'he', 'nor', 'won', 's', \"you'd\", 'all', \"hadn't\", 'yourself', 'had', 've', 'them', 'no', \"should've\", 'these', 'didn', \"isn't\", \"couldn't\", 'again', 'so', 'be', \"that'll\", 'm', 'i', 'of', 'there', 'your', 'during', 'here', 'its', 'now', 'needn', 'is', 'against', 'will', 'hadn', 'yours', 'has', \"haven't\", 'a', 'same', 'with', 'does', 'isn', 'under', 'what', 't', 'herself', \"mightn't\", 'further', 'ain', 'into', 'it', 'to', 'they', 'and', 'when', 'itself', 'have', 'after', 'an', 'as', 'off', \"you've\", 'once', 'than', 'only', \"didn't\", \"mustn't\", 'then', 'myself', 'll', 'been', 'having', 'should', 'those', 'too', \"shouldn't\", 'wouldn', 'few', 'on', 'who', 'himself', 'why', 'was', 'my', 'over', 'theirs', 'd', 'hasn', 'if', 'weren', 'between', \"weren't\", 'aren', \"won't\", 'any', 'haven', 'whom', 'both', 'most', 'doesn', \"you'll\", 'shan', 'our', 'through', 'mustn', 'ma', 'above', 'this', \"shan't\", 'that', 'their', 'each', 'own', 'can', \"wasn't\", 'the', 'couldn', 'themselves', 'shouldn', 'out'}\n"
          ]
        }
      ]
    },
    {
      "cell_type": "code",
      "source": [
        "word_tokens = word_tokenize(sentence)\n",
        "stopword_removal = [word for word in word_tokens if word not in stop_words]\n",
        "stopword = stopwords.words('english')\n",
        "print(stopword_removal)"
      ],
      "metadata": {
        "colab": {
          "base_uri": "https://localhost:8080/"
        },
        "id": "rPkPefjdesEC",
        "outputId": "a46ca6c9-136c-43a1-f1b5-a5449a05d878"
      },
      "execution_count": 25,
      "outputs": [
        {
          "output_type": "stream",
          "name": "stdout",
          "text": [
            "['Each', 'map', 'set', 'location', 'within', 'world', 'VALORANT', 'contents', 'searched', 'clue', 'area', 'importance', '.', 'Some', 'maps', ',', 'Fracture', 'Range', ',', ',', 'interactive', 'lore', 'elements', 'players', 'use', 'view', 'images', 'emails', 'listen', 'audio', 'voicemails', 'show', 'map', 'current', 'activities', 'VALORANT', 'Protocol', '(', 'matchmade', 'games', ',', 'viewed', 'buy', 'phase', ')', '.', 'Fracture', 'Pearl', 'also', 'audio', 'lines', 'play', 'certain', 'areas', '.', 'VALORANT', 'set', 'near-future', 'Earth', 'impacted', 'large', 'advancements', 'technology', ',', 'mysterious', 'global', 'event', 'known', 'First', 'Light', ',', 'discovery', 'substance', 'called', 'radianite', '.', 'Alpha', 'Earth', ',', 'including', 'timeline', 'events', 'alternate', 'realities', 'primary', 'Earth', 'VALORANT', 'takes', 'place', ',', 'Omega', 'Earth', '.', 'Maps', ',', 'including', 'meaning', 'behind', \"'Seconds\", \"'\", 'cipher', 'used', 'coordinates', '.']\n"
          ]
        }
      ]
    },
    {
      "cell_type": "markdown",
      "source": [
        "## Stemming"
      ],
      "metadata": {
        "id": "N-Kh2fDkkfEc"
      }
    },
    {
      "cell_type": "code",
      "source": [
        "from nltk.stem import SnowballStemmer\n",
        "stopword = stopwords.words('english')\n",
        "snowball_stemmer = SnowballStemmer('english')\n",
        "word_tokens = nltk.word_tokenize(sentence)\n",
        "stem = [snowball_stemmer.stem(word) for word in word_tokens]\n",
        "print(stem)"
      ],
      "metadata": {
        "colab": {
          "base_uri": "https://localhost:8080/"
        },
        "id": "2oQ4rbstesBO",
        "outputId": "3789060c-068c-4d6f-e1ea-41f64260698a"
      },
      "execution_count": 26,
      "outputs": [
        {
          "output_type": "stream",
          "name": "stdout",
          "text": [
            "['each', 'map', 'is', 'set', 'in', 'a', 'locat', 'within', 'the', 'world', 'of', 'valor', 'and', 'it', 'content', 'can', 'be', 'search', 'to', 'clue', 'you', 'in', 'as', 'to', 'whi', 'it', 'is', 'an', 'area', 'of', 'import', '.', 'some', 'map', ',', 'such', 'as', 'fractur', 'or', 'the', 'rang', 'have', ',', 'or', 'have', 'had', ',', 'interact', 'lore', 'element', 'that', 'player', 'can', 'use', 'to', 'view', 'imag', 'and', 'email', 'or', 'listen', 'to', 'audio', 'and', 'voicemail', 'that', 'show', 'more', 'about', 'the', 'map', 'or', 'the', 'current', 'activ', 'of', 'the', 'valor', 'protocol', '(', 'in', 'matchmad', 'game', ',', 'these', 'can', 'onli', 'be', 'view', 'dure', 'the', 'buy', 'phase', ')', '.', 'fractur', 'and', 'pearl', 'also', 'have', 'audio', 'line', 'that', 'play', 'in', 'certain', 'area', '.', 'valor', 'is', 'set', 'on', 'a', 'near-futur', 'earth', 'impact', 'by', 'larg', 'advanc', 'in', 'technolog', ',', 'a', 'mysteri', 'global', 'event', 'known', 'as', 'first', 'light', ',', 'and', 'the', 'discoveri', 'of', 'a', 'substanc', 'call', 'radianit', '.', 'alpha', 'earth', ',', 'includ', 'a', 'timelin', 'of', 'event', 'and', 'altern', 'realiti', 'of', 'this', 'primari', 'earth', 'that', 'valor', 'take', 'place', 'on', ',', 'such', 'as', 'omega', 'earth', '.', 'map', ',', 'includ', 'the', 'mean', 'behind', 'the', 'second', \"'\", 'cipher', 'use', 'in', 'their', 'coordin', '.']\n"
          ]
        }
      ]
    },
    {
      "cell_type": "markdown",
      "source": [
        "## Lemmatization"
      ],
      "metadata": {
        "id": "8Td6dHA8kiZe"
      }
    },
    {
      "cell_type": "code",
      "source": [
        "from nltk.stem import WordNetLemmatizer\n",
        "nltk.download('wordnet')\n",
        "nltk.download('omw-1.4')\n",
        "nltk.download('averaged_perceptron_tagger')\n",
        "\n",
        "stopword = stopwords.words('english')\n",
        "wordnet_lemmatizer = WordNetLemmatizer()\n",
        "word_tokens = nltk.word_tokenize(sentence)\n",
        "lemmatization = [wordnet_lemmatizer.lemmatize(word) for word in word_tokens]\n",
        "print(lemmatization)"
      ],
      "metadata": {
        "colab": {
          "base_uri": "https://localhost:8080/"
        },
        "id": "REiBd3i5jxcs",
        "outputId": "65a759a0-eb07-4c0a-a580-3eb4e5736987"
      },
      "execution_count": 31,
      "outputs": [
        {
          "output_type": "stream",
          "name": "stderr",
          "text": [
            "[nltk_data] Downloading package wordnet to /root/nltk_data...\n",
            "[nltk_data]   Package wordnet is already up-to-date!\n",
            "[nltk_data] Downloading package omw-1.4 to /root/nltk_data...\n",
            "[nltk_data]   Package omw-1.4 is already up-to-date!\n",
            "[nltk_data] Downloading package averaged_perceptron_tagger to\n",
            "[nltk_data]     /root/nltk_data...\n",
            "[nltk_data]   Unzipping taggers/averaged_perceptron_tagger.zip.\n"
          ]
        },
        {
          "output_type": "stream",
          "name": "stdout",
          "text": [
            "['Each', 'map', 'is', 'set', 'in', 'a', 'location', 'within', 'the', 'world', 'of', 'VALORANT', 'and', 'it', 'content', 'can', 'be', 'searched', 'to', 'clue', 'you', 'in', 'a', 'to', 'why', 'it', 'is', 'an', 'area', 'of', 'importance', '.', 'Some', 'map', ',', 'such', 'a', 'Fracture', 'or', 'the', 'Range', 'have', ',', 'or', 'have', 'had', ',', 'interactive', 'lore', 'element', 'that', 'player', 'can', 'use', 'to', 'view', 'image', 'and', 'email', 'or', 'listen', 'to', 'audio', 'and', 'voicemail', 'that', 'show', 'more', 'about', 'the', 'map', 'or', 'the', 'current', 'activity', 'of', 'the', 'VALORANT', 'Protocol', '(', 'in', 'matchmade', 'game', ',', 'these', 'can', 'only', 'be', 'viewed', 'during', 'the', 'buy', 'phase', ')', '.', 'Fracture', 'and', 'Pearl', 'also', 'have', 'audio', 'line', 'that', 'play', 'in', 'certain', 'area', '.', 'VALORANT', 'is', 'set', 'on', 'a', 'near-future', 'Earth', 'impacted', 'by', 'large', 'advancement', 'in', 'technology', ',', 'a', 'mysterious', 'global', 'event', 'known', 'a', 'First', 'Light', ',', 'and', 'the', 'discovery', 'of', 'a', 'substance', 'called', 'radianite', '.', 'Alpha', 'Earth', ',', 'including', 'a', 'timeline', 'of', 'event', 'and', 'alternate', 'reality', 'of', 'this', 'primary', 'Earth', 'that', 'VALORANT', 'take', 'place', 'on', ',', 'such', 'a', 'Omega', 'Earth', '.', 'Maps', ',', 'including', 'the', 'meaning', 'behind', 'the', \"'Seconds\", \"'\", 'cipher', 'used', 'in', 'their', 'coordinate', '.']\n"
          ]
        }
      ]
    },
    {
      "cell_type": "markdown",
      "source": [
        "## Parts of speech tagger"
      ],
      "metadata": {
        "id": "b6gGUyHCknSs"
      }
    },
    {
      "cell_type": "code",
      "source": [
        "words_tagging = nltk.word_tokenize(sentence)\n",
        "pos_tagging = nltk.pos_tag(words_tagging)\n",
        "print(pos_tagging)"
      ],
      "metadata": {
        "colab": {
          "base_uri": "https://localhost:8080/"
        },
        "id": "6VlB4PMBjxR0",
        "outputId": "37500fa3-5832-4739-df95-28b2fb4ce718"
      },
      "execution_count": 32,
      "outputs": [
        {
          "output_type": "stream",
          "name": "stdout",
          "text": [
            "[('Each', 'DT'), ('map', 'NN'), ('is', 'VBZ'), ('set', 'VBN'), ('in', 'IN'), ('a', 'DT'), ('location', 'NN'), ('within', 'IN'), ('the', 'DT'), ('world', 'NN'), ('of', 'IN'), ('VALORANT', 'NNP'), ('and', 'CC'), ('its', 'PRP$'), ('contents', 'NNS'), ('can', 'MD'), ('be', 'VB'), ('searched', 'VBN'), ('to', 'TO'), ('clue', 'VB'), ('you', 'PRP'), ('in', 'IN'), ('as', 'IN'), ('to', 'TO'), ('why', 'WRB'), ('it', 'PRP'), ('is', 'VBZ'), ('an', 'DT'), ('area', 'NN'), ('of', 'IN'), ('importance', 'NN'), ('.', '.'), ('Some', 'DT'), ('maps', 'NNS'), (',', ','), ('such', 'JJ'), ('as', 'IN'), ('Fracture', 'NN'), ('or', 'CC'), ('the', 'DT'), ('Range', 'NNP'), ('have', 'VBP'), (',', ','), ('or', 'CC'), ('have', 'VB'), ('had', 'VBN'), (',', ','), ('interactive', 'JJ'), ('lore', 'NN'), ('elements', 'NNS'), ('that', 'IN'), ('players', 'NNS'), ('can', 'MD'), ('use', 'VB'), ('to', 'TO'), ('view', 'VB'), ('images', 'NNS'), ('and', 'CC'), ('emails', 'NNS'), ('or', 'CC'), ('listen', 'VB'), ('to', 'TO'), ('audio', 'VB'), ('and', 'CC'), ('voicemails', 'VB'), ('that', 'DT'), ('show', 'NN'), ('more', 'RBR'), ('about', 'IN'), ('the', 'DT'), ('map', 'NN'), ('or', 'CC'), ('the', 'DT'), ('current', 'JJ'), ('activities', 'NNS'), ('of', 'IN'), ('the', 'DT'), ('VALORANT', 'NNP'), ('Protocol', 'NNP'), ('(', '('), ('in', 'IN'), ('matchmade', 'NN'), ('games', 'NNS'), (',', ','), ('these', 'DT'), ('can', 'MD'), ('only', 'RB'), ('be', 'VB'), ('viewed', 'VBN'), ('during', 'IN'), ('the', 'DT'), ('buy', 'NN'), ('phase', 'NN'), (')', ')'), ('.', '.'), ('Fracture', 'NN'), ('and', 'CC'), ('Pearl', 'NNP'), ('also', 'RB'), ('have', 'VBP'), ('audio', 'JJ'), ('lines', 'NNS'), ('that', 'WDT'), ('play', 'VBP'), ('in', 'IN'), ('certain', 'JJ'), ('areas', 'NNS'), ('.', '.'), ('VALORANT', 'NNP'), ('is', 'VBZ'), ('set', 'VBN'), ('on', 'IN'), ('a', 'DT'), ('near-future', 'JJ'), ('Earth', 'NN'), ('impacted', 'VBN'), ('by', 'IN'), ('large', 'JJ'), ('advancements', 'NNS'), ('in', 'IN'), ('technology', 'NN'), (',', ','), ('a', 'DT'), ('mysterious', 'JJ'), ('global', 'JJ'), ('event', 'NN'), ('known', 'VBN'), ('as', 'IN'), ('First', 'NNP'), ('Light', 'NNP'), (',', ','), ('and', 'CC'), ('the', 'DT'), ('discovery', 'NN'), ('of', 'IN'), ('a', 'DT'), ('substance', 'NN'), ('called', 'VBN'), ('radianite', 'NN'), ('.', '.'), ('Alpha', 'NNP'), ('Earth', 'NNP'), (',', ','), ('including', 'VBG'), ('a', 'DT'), ('timeline', 'NN'), ('of', 'IN'), ('events', 'NNS'), ('and', 'CC'), ('alternate', 'JJ'), ('realities', 'NNS'), ('of', 'IN'), ('this', 'DT'), ('primary', 'JJ'), ('Earth', 'NN'), ('that', 'WDT'), ('VALORANT', 'NNP'), ('takes', 'VBZ'), ('place', 'NN'), ('on', 'IN'), (',', ','), ('such', 'JJ'), ('as', 'IN'), ('Omega', 'NNP'), ('Earth', 'NNP'), ('.', '.'), ('Maps', 'NNP'), (',', ','), ('including', 'VBG'), ('the', 'DT'), ('meaning', 'NN'), ('behind', 'IN'), ('the', 'DT'), (\"'Seconds\", 'NNS'), (\"'\", 'POS'), ('cipher', 'NN'), ('used', 'VBN'), ('in', 'IN'), ('their', 'PRP$'), ('coordinates', 'NNS'), ('.', '.')]\n"
          ]
        }
      ]
    },
    {
      "cell_type": "code",
      "source": [
        ""
      ],
      "metadata": {
        "id": "pFsKodlber0O"
      },
      "execution_count": null,
      "outputs": []
    }
  ]
}