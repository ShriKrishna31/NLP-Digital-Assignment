{
  "nbformat": 4,
  "nbformat_minor": 0,
  "metadata": {
    "colab": {
      "name": "NLP-DA1 ",
      "provenance": [],
      "authorship_tag": "ABX9TyNP+1sPWMYxZw3FdmLV70qS",
      "include_colab_link": true
    },
    "kernelspec": {
      "name": "python3",
      "display_name": "Python 3"
    },
    "language_info": {
      "name": "python"
    }
  },
  "cells": [
    {
      "cell_type": "markdown",
      "metadata": {
        "id": "view-in-github",
        "colab_type": "text"
      },
      "source": [
        "<a href=\"https://colab.research.google.com/github/ShriKrishna31/NLP-Digital-Assignment/blob/main/NLP_DA1.ipynb\" target=\"_parent\"><img src=\"https://colab.research.google.com/assets/colab-badge.svg\" alt=\"Open In Colab\"/></a>"
      ]
    },
    {
      "cell_type": "markdown",
      "source": [
        "# Natural Languange Processing - CSE4022\n",
        "## Digital Assignment1"
      ],
      "metadata": {
        "id": "UsLss-5wcOsf"
      }
    },
    {
      "cell_type": "markdown",
      "source": [
        "## Shri Krishna R. 19BCE1636"
      ],
      "metadata": {
        "id": "t1apzp8jcbUu"
      }
    },
    {
      "cell_type": "markdown",
      "source": [
        "### 1. Explore Brown Corpus and find the size, tokens, categories"
      ],
      "metadata": {
        "id": "0sspm89YcIpx"
      }
    },
    {
      "cell_type": "code",
      "execution_count": 2,
      "metadata": {
        "colab": {
          "base_uri": "https://localhost:8080/"
        },
        "id": "7aHK62EoG60B",
        "outputId": "5c3f75ff-7b6e-47ca-be47-215470825ed1"
      },
      "outputs": [
        {
          "output_type": "stream",
          "name": "stderr",
          "text": [
            "[nltk_data] Downloading package brown to /root/nltk_data...\n",
            "[nltk_data]   Unzipping corpora/brown.zip.\n"
          ]
        },
        {
          "output_type": "execute_result",
          "data": {
            "text/plain": [
              "True"
            ]
          },
          "metadata": {},
          "execution_count": 2
        }
      ],
      "source": [
        "import nltk\n",
        "from nltk.corpus import brown\n",
        "nltk.download('brown')"
      ]
    },
    {
      "cell_type": "code",
      "source": [
        "brown.categories()"
      ],
      "metadata": {
        "colab": {
          "base_uri": "https://localhost:8080/"
        },
        "id": "swRAJd6tHLLS",
        "outputId": "6da27944-42f1-4d6f-8d02-6e97cc520413"
      },
      "execution_count": 3,
      "outputs": [
        {
          "output_type": "execute_result",
          "data": {
            "text/plain": [
              "['adventure',\n",
              " 'belles_lettres',\n",
              " 'editorial',\n",
              " 'fiction',\n",
              " 'government',\n",
              " 'hobbies',\n",
              " 'humor',\n",
              " 'learned',\n",
              " 'lore',\n",
              " 'mystery',\n",
              " 'news',\n",
              " 'religion',\n",
              " 'reviews',\n",
              " 'romance',\n",
              " 'science_fiction']"
            ]
          },
          "metadata": {},
          "execution_count": 3
        }
      ]
    },
    {
      "cell_type": "code",
      "source": [
        "brown.fileids()"
      ],
      "metadata": {
        "colab": {
          "base_uri": "https://localhost:8080/"
        },
        "id": "-g_qYhueHfpB",
        "outputId": "cae61486-0210-4f43-af30-df85fc3dcb97"
      },
      "execution_count": 4,
      "outputs": [
        {
          "output_type": "execute_result",
          "data": {
            "text/plain": [
              "['ca01',\n",
              " 'ca02',\n",
              " 'ca03',\n",
              " 'ca04',\n",
              " 'ca05',\n",
              " 'ca06',\n",
              " 'ca07',\n",
              " 'ca08',\n",
              " 'ca09',\n",
              " 'ca10',\n",
              " 'ca11',\n",
              " 'ca12',\n",
              " 'ca13',\n",
              " 'ca14',\n",
              " 'ca15',\n",
              " 'ca16',\n",
              " 'ca17',\n",
              " 'ca18',\n",
              " 'ca19',\n",
              " 'ca20',\n",
              " 'ca21',\n",
              " 'ca22',\n",
              " 'ca23',\n",
              " 'ca24',\n",
              " 'ca25',\n",
              " 'ca26',\n",
              " 'ca27',\n",
              " 'ca28',\n",
              " 'ca29',\n",
              " 'ca30',\n",
              " 'ca31',\n",
              " 'ca32',\n",
              " 'ca33',\n",
              " 'ca34',\n",
              " 'ca35',\n",
              " 'ca36',\n",
              " 'ca37',\n",
              " 'ca38',\n",
              " 'ca39',\n",
              " 'ca40',\n",
              " 'ca41',\n",
              " 'ca42',\n",
              " 'ca43',\n",
              " 'ca44',\n",
              " 'cb01',\n",
              " 'cb02',\n",
              " 'cb03',\n",
              " 'cb04',\n",
              " 'cb05',\n",
              " 'cb06',\n",
              " 'cb07',\n",
              " 'cb08',\n",
              " 'cb09',\n",
              " 'cb10',\n",
              " 'cb11',\n",
              " 'cb12',\n",
              " 'cb13',\n",
              " 'cb14',\n",
              " 'cb15',\n",
              " 'cb16',\n",
              " 'cb17',\n",
              " 'cb18',\n",
              " 'cb19',\n",
              " 'cb20',\n",
              " 'cb21',\n",
              " 'cb22',\n",
              " 'cb23',\n",
              " 'cb24',\n",
              " 'cb25',\n",
              " 'cb26',\n",
              " 'cb27',\n",
              " 'cc01',\n",
              " 'cc02',\n",
              " 'cc03',\n",
              " 'cc04',\n",
              " 'cc05',\n",
              " 'cc06',\n",
              " 'cc07',\n",
              " 'cc08',\n",
              " 'cc09',\n",
              " 'cc10',\n",
              " 'cc11',\n",
              " 'cc12',\n",
              " 'cc13',\n",
              " 'cc14',\n",
              " 'cc15',\n",
              " 'cc16',\n",
              " 'cc17',\n",
              " 'cd01',\n",
              " 'cd02',\n",
              " 'cd03',\n",
              " 'cd04',\n",
              " 'cd05',\n",
              " 'cd06',\n",
              " 'cd07',\n",
              " 'cd08',\n",
              " 'cd09',\n",
              " 'cd10',\n",
              " 'cd11',\n",
              " 'cd12',\n",
              " 'cd13',\n",
              " 'cd14',\n",
              " 'cd15',\n",
              " 'cd16',\n",
              " 'cd17',\n",
              " 'ce01',\n",
              " 'ce02',\n",
              " 'ce03',\n",
              " 'ce04',\n",
              " 'ce05',\n",
              " 'ce06',\n",
              " 'ce07',\n",
              " 'ce08',\n",
              " 'ce09',\n",
              " 'ce10',\n",
              " 'ce11',\n",
              " 'ce12',\n",
              " 'ce13',\n",
              " 'ce14',\n",
              " 'ce15',\n",
              " 'ce16',\n",
              " 'ce17',\n",
              " 'ce18',\n",
              " 'ce19',\n",
              " 'ce20',\n",
              " 'ce21',\n",
              " 'ce22',\n",
              " 'ce23',\n",
              " 'ce24',\n",
              " 'ce25',\n",
              " 'ce26',\n",
              " 'ce27',\n",
              " 'ce28',\n",
              " 'ce29',\n",
              " 'ce30',\n",
              " 'ce31',\n",
              " 'ce32',\n",
              " 'ce33',\n",
              " 'ce34',\n",
              " 'ce35',\n",
              " 'ce36',\n",
              " 'cf01',\n",
              " 'cf02',\n",
              " 'cf03',\n",
              " 'cf04',\n",
              " 'cf05',\n",
              " 'cf06',\n",
              " 'cf07',\n",
              " 'cf08',\n",
              " 'cf09',\n",
              " 'cf10',\n",
              " 'cf11',\n",
              " 'cf12',\n",
              " 'cf13',\n",
              " 'cf14',\n",
              " 'cf15',\n",
              " 'cf16',\n",
              " 'cf17',\n",
              " 'cf18',\n",
              " 'cf19',\n",
              " 'cf20',\n",
              " 'cf21',\n",
              " 'cf22',\n",
              " 'cf23',\n",
              " 'cf24',\n",
              " 'cf25',\n",
              " 'cf26',\n",
              " 'cf27',\n",
              " 'cf28',\n",
              " 'cf29',\n",
              " 'cf30',\n",
              " 'cf31',\n",
              " 'cf32',\n",
              " 'cf33',\n",
              " 'cf34',\n",
              " 'cf35',\n",
              " 'cf36',\n",
              " 'cf37',\n",
              " 'cf38',\n",
              " 'cf39',\n",
              " 'cf40',\n",
              " 'cf41',\n",
              " 'cf42',\n",
              " 'cf43',\n",
              " 'cf44',\n",
              " 'cf45',\n",
              " 'cf46',\n",
              " 'cf47',\n",
              " 'cf48',\n",
              " 'cg01',\n",
              " 'cg02',\n",
              " 'cg03',\n",
              " 'cg04',\n",
              " 'cg05',\n",
              " 'cg06',\n",
              " 'cg07',\n",
              " 'cg08',\n",
              " 'cg09',\n",
              " 'cg10',\n",
              " 'cg11',\n",
              " 'cg12',\n",
              " 'cg13',\n",
              " 'cg14',\n",
              " 'cg15',\n",
              " 'cg16',\n",
              " 'cg17',\n",
              " 'cg18',\n",
              " 'cg19',\n",
              " 'cg20',\n",
              " 'cg21',\n",
              " 'cg22',\n",
              " 'cg23',\n",
              " 'cg24',\n",
              " 'cg25',\n",
              " 'cg26',\n",
              " 'cg27',\n",
              " 'cg28',\n",
              " 'cg29',\n",
              " 'cg30',\n",
              " 'cg31',\n",
              " 'cg32',\n",
              " 'cg33',\n",
              " 'cg34',\n",
              " 'cg35',\n",
              " 'cg36',\n",
              " 'cg37',\n",
              " 'cg38',\n",
              " 'cg39',\n",
              " 'cg40',\n",
              " 'cg41',\n",
              " 'cg42',\n",
              " 'cg43',\n",
              " 'cg44',\n",
              " 'cg45',\n",
              " 'cg46',\n",
              " 'cg47',\n",
              " 'cg48',\n",
              " 'cg49',\n",
              " 'cg50',\n",
              " 'cg51',\n",
              " 'cg52',\n",
              " 'cg53',\n",
              " 'cg54',\n",
              " 'cg55',\n",
              " 'cg56',\n",
              " 'cg57',\n",
              " 'cg58',\n",
              " 'cg59',\n",
              " 'cg60',\n",
              " 'cg61',\n",
              " 'cg62',\n",
              " 'cg63',\n",
              " 'cg64',\n",
              " 'cg65',\n",
              " 'cg66',\n",
              " 'cg67',\n",
              " 'cg68',\n",
              " 'cg69',\n",
              " 'cg70',\n",
              " 'cg71',\n",
              " 'cg72',\n",
              " 'cg73',\n",
              " 'cg74',\n",
              " 'cg75',\n",
              " 'ch01',\n",
              " 'ch02',\n",
              " 'ch03',\n",
              " 'ch04',\n",
              " 'ch05',\n",
              " 'ch06',\n",
              " 'ch07',\n",
              " 'ch08',\n",
              " 'ch09',\n",
              " 'ch10',\n",
              " 'ch11',\n",
              " 'ch12',\n",
              " 'ch13',\n",
              " 'ch14',\n",
              " 'ch15',\n",
              " 'ch16',\n",
              " 'ch17',\n",
              " 'ch18',\n",
              " 'ch19',\n",
              " 'ch20',\n",
              " 'ch21',\n",
              " 'ch22',\n",
              " 'ch23',\n",
              " 'ch24',\n",
              " 'ch25',\n",
              " 'ch26',\n",
              " 'ch27',\n",
              " 'ch28',\n",
              " 'ch29',\n",
              " 'ch30',\n",
              " 'cj01',\n",
              " 'cj02',\n",
              " 'cj03',\n",
              " 'cj04',\n",
              " 'cj05',\n",
              " 'cj06',\n",
              " 'cj07',\n",
              " 'cj08',\n",
              " 'cj09',\n",
              " 'cj10',\n",
              " 'cj11',\n",
              " 'cj12',\n",
              " 'cj13',\n",
              " 'cj14',\n",
              " 'cj15',\n",
              " 'cj16',\n",
              " 'cj17',\n",
              " 'cj18',\n",
              " 'cj19',\n",
              " 'cj20',\n",
              " 'cj21',\n",
              " 'cj22',\n",
              " 'cj23',\n",
              " 'cj24',\n",
              " 'cj25',\n",
              " 'cj26',\n",
              " 'cj27',\n",
              " 'cj28',\n",
              " 'cj29',\n",
              " 'cj30',\n",
              " 'cj31',\n",
              " 'cj32',\n",
              " 'cj33',\n",
              " 'cj34',\n",
              " 'cj35',\n",
              " 'cj36',\n",
              " 'cj37',\n",
              " 'cj38',\n",
              " 'cj39',\n",
              " 'cj40',\n",
              " 'cj41',\n",
              " 'cj42',\n",
              " 'cj43',\n",
              " 'cj44',\n",
              " 'cj45',\n",
              " 'cj46',\n",
              " 'cj47',\n",
              " 'cj48',\n",
              " 'cj49',\n",
              " 'cj50',\n",
              " 'cj51',\n",
              " 'cj52',\n",
              " 'cj53',\n",
              " 'cj54',\n",
              " 'cj55',\n",
              " 'cj56',\n",
              " 'cj57',\n",
              " 'cj58',\n",
              " 'cj59',\n",
              " 'cj60',\n",
              " 'cj61',\n",
              " 'cj62',\n",
              " 'cj63',\n",
              " 'cj64',\n",
              " 'cj65',\n",
              " 'cj66',\n",
              " 'cj67',\n",
              " 'cj68',\n",
              " 'cj69',\n",
              " 'cj70',\n",
              " 'cj71',\n",
              " 'cj72',\n",
              " 'cj73',\n",
              " 'cj74',\n",
              " 'cj75',\n",
              " 'cj76',\n",
              " 'cj77',\n",
              " 'cj78',\n",
              " 'cj79',\n",
              " 'cj80',\n",
              " 'ck01',\n",
              " 'ck02',\n",
              " 'ck03',\n",
              " 'ck04',\n",
              " 'ck05',\n",
              " 'ck06',\n",
              " 'ck07',\n",
              " 'ck08',\n",
              " 'ck09',\n",
              " 'ck10',\n",
              " 'ck11',\n",
              " 'ck12',\n",
              " 'ck13',\n",
              " 'ck14',\n",
              " 'ck15',\n",
              " 'ck16',\n",
              " 'ck17',\n",
              " 'ck18',\n",
              " 'ck19',\n",
              " 'ck20',\n",
              " 'ck21',\n",
              " 'ck22',\n",
              " 'ck23',\n",
              " 'ck24',\n",
              " 'ck25',\n",
              " 'ck26',\n",
              " 'ck27',\n",
              " 'ck28',\n",
              " 'ck29',\n",
              " 'cl01',\n",
              " 'cl02',\n",
              " 'cl03',\n",
              " 'cl04',\n",
              " 'cl05',\n",
              " 'cl06',\n",
              " 'cl07',\n",
              " 'cl08',\n",
              " 'cl09',\n",
              " 'cl10',\n",
              " 'cl11',\n",
              " 'cl12',\n",
              " 'cl13',\n",
              " 'cl14',\n",
              " 'cl15',\n",
              " 'cl16',\n",
              " 'cl17',\n",
              " 'cl18',\n",
              " 'cl19',\n",
              " 'cl20',\n",
              " 'cl21',\n",
              " 'cl22',\n",
              " 'cl23',\n",
              " 'cl24',\n",
              " 'cm01',\n",
              " 'cm02',\n",
              " 'cm03',\n",
              " 'cm04',\n",
              " 'cm05',\n",
              " 'cm06',\n",
              " 'cn01',\n",
              " 'cn02',\n",
              " 'cn03',\n",
              " 'cn04',\n",
              " 'cn05',\n",
              " 'cn06',\n",
              " 'cn07',\n",
              " 'cn08',\n",
              " 'cn09',\n",
              " 'cn10',\n",
              " 'cn11',\n",
              " 'cn12',\n",
              " 'cn13',\n",
              " 'cn14',\n",
              " 'cn15',\n",
              " 'cn16',\n",
              " 'cn17',\n",
              " 'cn18',\n",
              " 'cn19',\n",
              " 'cn20',\n",
              " 'cn21',\n",
              " 'cn22',\n",
              " 'cn23',\n",
              " 'cn24',\n",
              " 'cn25',\n",
              " 'cn26',\n",
              " 'cn27',\n",
              " 'cn28',\n",
              " 'cn29',\n",
              " 'cp01',\n",
              " 'cp02',\n",
              " 'cp03',\n",
              " 'cp04',\n",
              " 'cp05',\n",
              " 'cp06',\n",
              " 'cp07',\n",
              " 'cp08',\n",
              " 'cp09',\n",
              " 'cp10',\n",
              " 'cp11',\n",
              " 'cp12',\n",
              " 'cp13',\n",
              " 'cp14',\n",
              " 'cp15',\n",
              " 'cp16',\n",
              " 'cp17',\n",
              " 'cp18',\n",
              " 'cp19',\n",
              " 'cp20',\n",
              " 'cp21',\n",
              " 'cp22',\n",
              " 'cp23',\n",
              " 'cp24',\n",
              " 'cp25',\n",
              " 'cp26',\n",
              " 'cp27',\n",
              " 'cp28',\n",
              " 'cp29',\n",
              " 'cr01',\n",
              " 'cr02',\n",
              " 'cr03',\n",
              " 'cr04',\n",
              " 'cr05',\n",
              " 'cr06',\n",
              " 'cr07',\n",
              " 'cr08',\n",
              " 'cr09']"
            ]
          },
          "metadata": {},
          "execution_count": 4
        }
      ]
    },
    {
      "cell_type": "code",
      "source": [
        "brown.sents()"
      ],
      "metadata": {
        "colab": {
          "base_uri": "https://localhost:8080/"
        },
        "id": "Nw-Z2MQFH3SR",
        "outputId": "acc14569-377a-44ed-d4d1-e02b18f3dfe2"
      },
      "execution_count": 5,
      "outputs": [
        {
          "output_type": "execute_result",
          "data": {
            "text/plain": [
              "[['The', 'Fulton', 'County', 'Grand', 'Jury', 'said', 'Friday', 'an', 'investigation', 'of', \"Atlanta's\", 'recent', 'primary', 'election', 'produced', '``', 'no', 'evidence', \"''\", 'that', 'any', 'irregularities', 'took', 'place', '.'], ['The', 'jury', 'further', 'said', 'in', 'term-end', 'presentments', 'that', 'the', 'City', 'Executive', 'Committee', ',', 'which', 'had', 'over-all', 'charge', 'of', 'the', 'election', ',', '``', 'deserves', 'the', 'praise', 'and', 'thanks', 'of', 'the', 'City', 'of', 'Atlanta', \"''\", 'for', 'the', 'manner', 'in', 'which', 'the', 'election', 'was', 'conducted', '.'], ...]"
            ]
          },
          "metadata": {},
          "execution_count": 5
        }
      ]
    },
    {
      "cell_type": "code",
      "source": [
        "print(brown.tagged_words())"
      ],
      "metadata": {
        "colab": {
          "base_uri": "https://localhost:8080/"
        },
        "id": "zKtwp64XH78Y",
        "outputId": "bb70746f-45e2-43cd-8041-3bdfa03c4872"
      },
      "execution_count": 6,
      "outputs": [
        {
          "output_type": "stream",
          "name": "stdout",
          "text": [
            "[('The', 'AT'), ('Fulton', 'NP-TL'), ...]\n"
          ]
        }
      ]
    },
    {
      "cell_type": "markdown",
      "source": [
        "## Size of word token"
      ],
      "metadata": {
        "id": "uO6dRf7_H_kq"
      }
    },
    {
      "cell_type": "code",
      "source": [
        "len(brown.words())"
      ],
      "metadata": {
        "colab": {
          "base_uri": "https://localhost:8080/"
        },
        "id": "frU2zk-kH80h",
        "outputId": "bdcf3c5e-68f0-4c12-f96f-330655cdd11c"
      },
      "execution_count": 7,
      "outputs": [
        {
          "output_type": "execute_result",
          "data": {
            "text/plain": [
              "1161192"
            ]
          },
          "metadata": {},
          "execution_count": 7
        }
      ]
    },
    {
      "cell_type": "markdown",
      "source": [
        "## Size of word type"
      ],
      "metadata": {
        "id": "HlmOVqyqZVZo"
      }
    },
    {
      "cell_type": "code",
      "source": [
        "print(brown.tagged_words())"
      ],
      "metadata": {
        "colab": {
          "base_uri": "https://localhost:8080/"
        },
        "id": "gbUzHkMHZUAw",
        "outputId": "f46d5ee4-108e-4171-c2b5-99686b942677"
      },
      "execution_count": 8,
      "outputs": [
        {
          "output_type": "stream",
          "name": "stdout",
          "text": [
            "[('The', 'AT'), ('Fulton', 'NP-TL'), ...]\n"
          ]
        }
      ]
    },
    {
      "cell_type": "code",
      "source": [
        "print(brown.tagged_sents())"
      ],
      "metadata": {
        "colab": {
          "base_uri": "https://localhost:8080/"
        },
        "id": "QEPdtqxLZ3KX",
        "outputId": "fbd2c468-cb89-4d85-fd5f-152c9aa2cbc0"
      },
      "execution_count": 9,
      "outputs": [
        {
          "output_type": "stream",
          "name": "stdout",
          "text": [
            "[[('The', 'AT'), ('Fulton', 'NP-TL'), ('County', 'NN-TL'), ('Grand', 'JJ-TL'), ('Jury', 'NN-TL'), ('said', 'VBD'), ('Friday', 'NR'), ('an', 'AT'), ('investigation', 'NN'), ('of', 'IN'), (\"Atlanta's\", 'NP$'), ('recent', 'JJ'), ('primary', 'NN'), ('election', 'NN'), ('produced', 'VBD'), ('``', '``'), ('no', 'AT'), ('evidence', 'NN'), (\"''\", \"''\"), ('that', 'CS'), ('any', 'DTI'), ('irregularities', 'NNS'), ('took', 'VBD'), ('place', 'NN'), ('.', '.')], [('The', 'AT'), ('jury', 'NN'), ('further', 'RBR'), ('said', 'VBD'), ('in', 'IN'), ('term-end', 'NN'), ('presentments', 'NNS'), ('that', 'CS'), ('the', 'AT'), ('City', 'NN-TL'), ('Executive', 'JJ-TL'), ('Committee', 'NN-TL'), (',', ','), ('which', 'WDT'), ('had', 'HVD'), ('over-all', 'JJ'), ('charge', 'NN'), ('of', 'IN'), ('the', 'AT'), ('election', 'NN'), (',', ','), ('``', '``'), ('deserves', 'VBZ'), ('the', 'AT'), ('praise', 'NN'), ('and', 'CC'), ('thanks', 'NNS'), ('of', 'IN'), ('the', 'AT'), ('City', 'NN-TL'), ('of', 'IN-TL'), ('Atlanta', 'NP-TL'), (\"''\", \"''\"), ('for', 'IN'), ('the', 'AT'), ('manner', 'NN'), ('in', 'IN'), ('which', 'WDT'), ('the', 'AT'), ('election', 'NN'), ('was', 'BEDZ'), ('conducted', 'VBN'), ('.', '.')], ...]\n"
          ]
        }
      ]
    },
    {
      "cell_type": "code",
      "source": [
        "len(brown.tagged_words())"
      ],
      "metadata": {
        "colab": {
          "base_uri": "https://localhost:8080/"
        },
        "id": "EtrWJtDdZ5X3",
        "outputId": "91463d38-a300-432c-912d-94e7a88478af"
      },
      "execution_count": 10,
      "outputs": [
        {
          "output_type": "execute_result",
          "data": {
            "text/plain": [
              "1161192"
            ]
          },
          "metadata": {},
          "execution_count": 10
        }
      ]
    },
    {
      "cell_type": "markdown",
      "source": [
        "## Find the size of category “government\""
      ],
      "metadata": {
        "id": "37-Tq3WaZ8bS"
      }
    },
    {
      "cell_type": "code",
      "source": [
        "len(brown.words(categories='government'))"
      ],
      "metadata": {
        "colab": {
          "base_uri": "https://localhost:8080/"
        },
        "id": "nVoAMGlcZ-mo",
        "outputId": "50070369-5611-4600-e216-8752f902b5c0"
      },
      "execution_count": 11,
      "outputs": [
        {
          "output_type": "execute_result",
          "data": {
            "text/plain": [
              "70117"
            ]
          },
          "metadata": {},
          "execution_count": 11
        }
      ]
    },
    {
      "cell_type": "markdown",
      "source": [
        "## List of most frequent tokens"
      ],
      "metadata": {
        "id": "VXTLg8P6aEjQ"
      }
    },
    {
      "cell_type": "code",
      "source": [
        "from nltk import FreqDist\n",
        "fdist = FreqDist(brown.words())\n",
        "fdist.most_common(1)"
      ],
      "metadata": {
        "colab": {
          "base_uri": "https://localhost:8080/"
        },
        "id": "qlYg7LrUZ-44",
        "outputId": "2f86d092-dd2d-44b7-d33f-d767c96b954a"
      },
      "execution_count": 12,
      "outputs": [
        {
          "output_type": "execute_result",
          "data": {
            "text/plain": [
              "[('the', 62713)]"
            ]
          },
          "metadata": {},
          "execution_count": 12
        }
      ]
    },
    {
      "cell_type": "code",
      "source": [
        "mostfrequenttoken = FreqDist(brown.words())\n",
        "mostfrequenttoken.most_common(1)"
      ],
      "metadata": {
        "colab": {
          "base_uri": "https://localhost:8080/"
        },
        "id": "yWfTPv60aAt4",
        "outputId": "b434a3fd-3508-4b77-92c7-52f4ffd3d494"
      },
      "execution_count": 13,
      "outputs": [
        {
          "output_type": "execute_result",
          "data": {
            "text/plain": [
              "[('the', 62713)]"
            ]
          },
          "metadata": {},
          "execution_count": 13
        }
      ]
    },
    {
      "cell_type": "code",
      "source": [
        "mostfrequenttoken.most_common(10)"
      ],
      "metadata": {
        "colab": {
          "base_uri": "https://localhost:8080/"
        },
        "id": "TbFPWGSJaAk4",
        "outputId": "431d3179-67ae-41a8-b640-54be6ab7f5d5"
      },
      "execution_count": 14,
      "outputs": [
        {
          "output_type": "execute_result",
          "data": {
            "text/plain": [
              "[('the', 62713),\n",
              " (',', 58334),\n",
              " ('.', 49346),\n",
              " ('of', 36080),\n",
              " ('and', 27915),\n",
              " ('to', 25732),\n",
              " ('a', 21881),\n",
              " ('in', 19536),\n",
              " ('that', 10237),\n",
              " ('is', 10011)]"
            ]
          },
          "metadata": {},
          "execution_count": 14
        }
      ]
    },
    {
      "cell_type": "markdown",
      "source": [
        "## Count the number of sentence"
      ],
      "metadata": {
        "id": "PZ2rSl5daTDw"
      }
    },
    {
      "cell_type": "code",
      "source": [
        "len(brown.sents())"
      ],
      "metadata": {
        "colab": {
          "base_uri": "https://localhost:8080/"
        },
        "id": "vGVnB45PaAX_",
        "outputId": "59ceb829-89ad-4888-d22e-3478ac5e1485"
      },
      "execution_count": 15,
      "outputs": [
        {
          "output_type": "execute_result",
          "data": {
            "text/plain": [
              "57340"
            ]
          },
          "metadata": {},
          "execution_count": 15
        }
      ]
    },
    {
      "cell_type": "markdown",
      "source": [
        "## 2. Explore the corpora available in NLTK"
      ],
      "metadata": {
        "id": "4S5R5s-VaY6A"
      }
    },
    {
      "cell_type": "code",
      "source": [
        "nltk.download('gutenberg')\n",
        "from nltk.corpus import gutenberg\n",
        "fields = gutenberg.fileids()\n",
        "\n",
        "print(fields)"
      ],
      "metadata": {
        "colab": {
          "base_uri": "https://localhost:8080/"
        },
        "id": "qYsSYgD4aAPB",
        "outputId": "813c3b3d-d097-4e0f-e266-742b2526e6eb"
      },
      "execution_count": 17,
      "outputs": [
        {
          "output_type": "stream",
          "name": "stderr",
          "text": [
            "[nltk_data] Downloading package gutenberg to /root/nltk_data...\n"
          ]
        },
        {
          "output_type": "stream",
          "name": "stdout",
          "text": [
            "['austen-emma.txt', 'austen-persuasion.txt', 'austen-sense.txt', 'bible-kjv.txt', 'blake-poems.txt', 'bryant-stories.txt', 'burgess-busterbrown.txt', 'carroll-alice.txt', 'chesterton-ball.txt', 'chesterton-brown.txt', 'chesterton-thursday.txt', 'edgeworth-parents.txt', 'melville-moby_dick.txt', 'milton-paradise.txt', 'shakespeare-caesar.txt', 'shakespeare-hamlet.txt', 'shakespeare-macbeth.txt', 'whitman-leaves.txt']\n"
          ]
        },
        {
          "output_type": "stream",
          "name": "stderr",
          "text": [
            "[nltk_data]   Unzipping corpora/gutenberg.zip.\n"
          ]
        }
      ]
    },
    {
      "cell_type": "code",
      "source": [
        "from nltk.tokenize import sent_tokenize\n",
        "from nltk.corpus import gutenberg\n",
        "nltk.download('punkt')\n",
        "\n",
        "sample = gutenberg.raw(\"whitman-leaves.txt\")\n",
        "\n",
        "token = sent_tokenize(sample)\n",
        "\n",
        "for para in range(2):\n",
        "    print(token[para])"
      ],
      "metadata": {
        "colab": {
          "base_uri": "https://localhost:8080/"
        },
        "id": "tgfyGJ-wae6e",
        "outputId": "02f9a8f9-916c-4a71-a286-84b8729c2fbc"
      },
      "execution_count": 19,
      "outputs": [
        {
          "output_type": "stream",
          "name": "stderr",
          "text": [
            "[nltk_data] Downloading package punkt to /root/nltk_data...\n",
            "[nltk_data]   Unzipping tokenizers/punkt.zip.\n"
          ]
        },
        {
          "output_type": "stream",
          "name": "stdout",
          "text": [
            "[Leaves of Grass by Walt Whitman 1855]\n",
            "\n",
            "\n",
            "Come, said my soul,\n",
            "Such verses for my Body let us write, (for we are one,)\n",
            "That should I after return,\n",
            "Or, long, long hence, in other spheres,\n",
            "There to some group of mates the chants resuming,\n",
            "(Tallying Earth's soil, trees, winds, tumultuous waves,)\n",
            "Ever with pleas'd smile I may keep on,\n",
            "Ever and ever yet the verses owning--as, first, I here and now\n",
            "Signing for Soul and Body, set to them my name,\n",
            "\n",
            "Walt Whitman\n",
            "\n",
            "\n",
            "\n",
            "[BOOK I.  INSCRIPTIONS]\n",
            "\n",
            "}  One's-Self I Sing\n",
            "\n",
            "One's-self I sing, a simple separate person,\n",
            "Yet utter the word Democratic, the word En-Masse.\n",
            "Of physiology from top to toe I sing,\n",
            "Not physiognomy alone nor brain alone is worthy for the Muse, I say\n",
            "    the Form complete is worthier far,\n",
            "The Female equally with the Male I sing.\n"
          ]
        }
      ]
    },
    {
      "cell_type": "code",
      "source": [
        "len(nltk.corpus.gutenberg.words('whitman-leaves.txt'))"
      ],
      "metadata": {
        "colab": {
          "base_uri": "https://localhost:8080/"
        },
        "id": "xF7aSPETae3r",
        "outputId": "f91502fc-4ac1-43d4-bcc5-501fa8dc8f9f"
      },
      "execution_count": 20,
      "outputs": [
        {
          "output_type": "execute_result",
          "data": {
            "text/plain": [
              "154883"
            ]
          },
          "metadata": {},
          "execution_count": 20
        }
      ]
    },
    {
      "cell_type": "markdown",
      "source": [
        "### Indian Corpus"
      ],
      "metadata": {
        "id": "V2Xy_kJYa1sB"
      }
    },
    {
      "cell_type": "code",
      "source": [
        "nltk.download(\"indian\")"
      ],
      "metadata": {
        "colab": {
          "base_uri": "https://localhost:8080/"
        },
        "id": "7b9poxdeae1t",
        "outputId": "164ab41f-e287-496a-b536-a3983b8bb92b"
      },
      "execution_count": 21,
      "outputs": [
        {
          "output_type": "stream",
          "name": "stderr",
          "text": [
            "[nltk_data] Downloading package indian to /root/nltk_data...\n",
            "[nltk_data]   Unzipping corpora/indian.zip.\n"
          ]
        },
        {
          "output_type": "execute_result",
          "data": {
            "text/plain": [
              "True"
            ]
          },
          "metadata": {},
          "execution_count": 21
        }
      ]
    },
    {
      "cell_type": "code",
      "source": [
        "from nltk.corpus import indian"
      ],
      "metadata": {
        "id": "VRMOsHfpaezK"
      },
      "execution_count": 22,
      "outputs": []
    },
    {
      "cell_type": "code",
      "source": [
        "print(nltk.corpus.indian.words('hindi.pos'))"
      ],
      "metadata": {
        "colab": {
          "base_uri": "https://localhost:8080/"
        },
        "id": "dFceBJmtaewY",
        "outputId": "f91bd413-1d25-48f2-83bc-0b63cc7d8fcf"
      },
      "execution_count": 23,
      "outputs": [
        {
          "output_type": "stream",
          "name": "stdout",
          "text": [
            "['पूर्ण', 'प्रतिबंध', 'हटाओ', ':', 'इराक', 'संयुक्त', ...]\n"
          ]
        }
      ]
    },
    {
      "cell_type": "code",
      "source": [
        "indian.fileids()"
      ],
      "metadata": {
        "colab": {
          "base_uri": "https://localhost:8080/"
        },
        "id": "EREow0usaerX",
        "outputId": "f99c1bf6-4115-467f-cfde-003c02fb49d9"
      },
      "execution_count": 24,
      "outputs": [
        {
          "output_type": "execute_result",
          "data": {
            "text/plain": [
              "['bangla.pos', 'hindi.pos', 'marathi.pos', 'telugu.pos']"
            ]
          },
          "metadata": {},
          "execution_count": 24
        }
      ]
    },
    {
      "cell_type": "code",
      "source": [
        "indian.words(\"bangla.pos\")"
      ],
      "metadata": {
        "colab": {
          "base_uri": "https://localhost:8080/"
        },
        "id": "4FYEgavzaeov",
        "outputId": "cd6ffe0f-f061-4d2f-d3cf-59a9734083a2"
      },
      "execution_count": 28,
      "outputs": [
        {
          "output_type": "execute_result",
          "data": {
            "text/plain": [
              "['মহিষের', 'সন্তান', ':', 'তোড়া', 'উপজাতি', '৷', ...]"
            ]
          },
          "metadata": {},
          "execution_count": 28
        }
      ]
    },
    {
      "cell_type": "code",
      "source": [
        "indian.words(\"telugu.pos\")"
      ],
      "metadata": {
        "colab": {
          "base_uri": "https://localhost:8080/"
        },
        "id": "7TKCnkRUaemR",
        "outputId": "ba2a53d1-56aa-40ed-ca7c-3361087b0f42"
      },
      "execution_count": 29,
      "outputs": [
        {
          "output_type": "execute_result",
          "data": {
            "text/plain": [
              "['4', '.', 'ఆడిట్', 'నిర్వహణ', 'ఆడిటర్', 'ఒక', 'కొత్త', ...]"
            ]
          },
          "metadata": {},
          "execution_count": 29
        }
      ]
    },
    {
      "cell_type": "code",
      "source": [
        "indian.words()"
      ],
      "metadata": {
        "colab": {
          "base_uri": "https://localhost:8080/"
        },
        "id": "P1_4XJjhaejx",
        "outputId": "1453f207-c25f-4d42-f161-e5976ce78cc8"
      },
      "execution_count": 30,
      "outputs": [
        {
          "output_type": "execute_result",
          "data": {
            "text/plain": [
              "['মহিষের', 'সন্তান', ':', 'তোড়া', 'উপজাতি', '৷', ...]"
            ]
          },
          "metadata": {},
          "execution_count": 30
        }
      ]
    },
    {
      "cell_type": "code",
      "source": [
        "len(indian.words())"
      ],
      "metadata": {
        "colab": {
          "base_uri": "https://localhost:8080/"
        },
        "id": "6q2fv5fmaefX",
        "outputId": "8cabc667-208c-438a-9814-a669066137e3"
      },
      "execution_count": 31,
      "outputs": [
        {
          "output_type": "execute_result",
          "data": {
            "text/plain": [
              "48754"
            ]
          },
          "metadata": {},
          "execution_count": 31
        }
      ]
    },
    {
      "cell_type": "markdown",
      "source": [
        "### Genesis Corpus"
      ],
      "metadata": {
        "id": "N5ISf3cGbk23"
      }
    },
    {
      "cell_type": "code",
      "source": [
        "nltk.download(\"genesis\")\n",
        "from nltk.corpus import genesis"
      ],
      "metadata": {
        "colab": {
          "base_uri": "https://localhost:8080/"
        },
        "id": "xp2k6q-Caec_",
        "outputId": "6a37a120-0801-4339-d6ec-7f38901cb8e4"
      },
      "execution_count": 33,
      "outputs": [
        {
          "output_type": "stream",
          "name": "stderr",
          "text": [
            "[nltk_data] Downloading package genesis to /root/nltk_data...\n",
            "[nltk_data]   Package genesis is already up-to-date!\n"
          ]
        }
      ]
    },
    {
      "cell_type": "code",
      "source": [
        "genesis.fileids()"
      ],
      "metadata": {
        "colab": {
          "base_uri": "https://localhost:8080/"
        },
        "id": "q6WkyiHVaeaZ",
        "outputId": "86f59457-7146-463d-dd3f-cc4ca3acdddf"
      },
      "execution_count": 34,
      "outputs": [
        {
          "output_type": "execute_result",
          "data": {
            "text/plain": [
              "['english-kjv.txt',\n",
              " 'english-web.txt',\n",
              " 'finnish.txt',\n",
              " 'french.txt',\n",
              " 'german.txt',\n",
              " 'lolcat.txt',\n",
              " 'portuguese.txt',\n",
              " 'swedish.txt']"
            ]
          },
          "metadata": {},
          "execution_count": 34
        }
      ]
    },
    {
      "cell_type": "code",
      "source": [
        "french = genesis.words('french.txt')\n",
        "french"
      ],
      "metadata": {
        "colab": {
          "base_uri": "https://localhost:8080/"
        },
        "id": "WnSlUbiFaeV7",
        "outputId": "a6aa5f66-05bd-4fe1-86e7-d321519de89b"
      },
      "execution_count": 35,
      "outputs": [
        {
          "output_type": "execute_result",
          "data": {
            "text/plain": [
              "['Au', 'commencement', ',', 'Dieu', 'créa', 'les', ...]"
            ]
          },
          "metadata": {},
          "execution_count": 35
        }
      ]
    },
    {
      "cell_type": "code",
      "source": [
        "len(genesis.words())"
      ],
      "metadata": {
        "colab": {
          "base_uri": "https://localhost:8080/"
        },
        "id": "hVBdlsVqbtCX",
        "outputId": "9b0052a4-db68-42b0-ac90-461bbb097b3d"
      },
      "execution_count": 36,
      "outputs": [
        {
          "output_type": "execute_result",
          "data": {
            "text/plain": [
              "315268"
            ]
          },
          "metadata": {},
          "execution_count": 36
        }
      ]
    },
    {
      "cell_type": "code",
      "source": [
        ""
      ],
      "metadata": {
        "id": "hfLDeXRFaABQ"
      },
      "execution_count": null,
      "outputs": []
    }
  ]
}